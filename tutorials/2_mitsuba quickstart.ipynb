{
 "cells": [
  {
   "cell_type": "markdown",
   "metadata": {},
   "source": [
    "### mitsuba quickstart, basic information\n",
    "https://mitsuba.readthedocs.io/en/latest/src/quickstart/mitsuba_quickstart.html"
   ]
  },
  {
   "cell_type": "markdown",
   "metadata": {},
   "source": [
    "### notes:\n",
    "mitsuba is *retargetable.* that means it supports \"a variety of different backends (cpu, gpu), color representations (RGB, spectral or polarized) and floating point precisions (single and double precision)\"\n",
    "a combination of these attributes is called a variant\n",
    "\n",
    "\n",
    "computational backends:\n",
    "*scalar*: runs on CPU, normal floating point arithmetic, processing individual rays at a time\n",
    "\n",
    "*llvm*: runs on CPU, automatically parallelized over cores and vector units\n",
    "\n",
    "*cuda*: runs on NVidia GPU in parallel\n",
    "\n",
    "the ```variants()``` function will list all varients available on your computer\n",
    "\n",
    "the ```help()``` function can be used on mitsuba classes and functinos"
   ]
  },
  {
   "cell_type": "code",
   "execution_count": 1,
   "metadata": {},
   "outputs": [],
   "source": [
    "import mitsuba as mi"
   ]
  },
  {
   "cell_type": "code",
   "execution_count": 4,
   "metadata": {},
   "outputs": [],
   "source": [
    "mi.variants()\n",
    "mi.set_variant(\"scalar_rgb\")"
   ]
  },
  {
   "cell_type": "code",
   "execution_count": null,
   "metadata": {},
   "outputs": [],
   "source": []
  }
 ],
 "metadata": {
  "kernelspec": {
   "display_name": "Python 3",
   "language": "python",
   "name": "python3"
  },
  "language_info": {
   "codemirror_mode": {
    "name": "ipython",
    "version": 3
   },
   "file_extension": ".py",
   "mimetype": "text/x-python",
   "name": "python",
   "nbconvert_exporter": "python",
   "pygments_lexer": "ipython3",
   "version": "3.12.1"
  }
 },
 "nbformat": 4,
 "nbformat_minor": 2
}
