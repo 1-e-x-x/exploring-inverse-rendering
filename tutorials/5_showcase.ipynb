{
 "cells": [
  {
   "cell_type": "markdown",
   "metadata": {},
   "source": [
    "code to visualize the caustic lens"
   ]
  },
  {
   "cell_type": "code",
   "execution_count": 284,
   "metadata": {},
   "outputs": [
    {
     "name": "stdout",
     "output_type": "stream",
     "text": [
      "['scalar_rgb', 'scalar_spectral', 'cuda_ad_rgb', 'llvm_ad_rgb']\n"
     ]
    }
   ],
   "source": [
    "import os\n",
    "from os.path import realpath, join\n",
    "\n",
    "import drjit as dr\n",
    "import mitsuba as mi\n",
    "\n",
    "import numpy as np\n",
    "\n",
    "print(mi.variants())"
   ]
  },
  {
   "cell_type": "code",
   "execution_count": 285,
   "metadata": {},
   "outputs": [],
   "source": [
    "mi.set_variant('llvm_ad_rgb')"
   ]
  },
  {
   "cell_type": "markdown",
   "metadata": {},
   "source": [
    "configs:"
   ]
  },
  {
   "cell_type": "code",
   "execution_count": 286,
   "metadata": {},
   "outputs": [
    {
     "name": "stdout",
     "output_type": "stream",
     "text": [
      "selected: C:\\Users\\Alex\\Desktop\\exploring-inverse-rendering\\tutorials\\4_outputs/green/lens_displaced.ply\n"
     ]
    }
   ],
   "source": [
    "SCENE_DIR = realpath('../scenes')\n",
    "\n",
    "CONFIGS = {\n",
    "    'wave': {\n",
    "        'emitter': 'gray',\n",
    "        'lens': join(realpath(''), '4_outputs/wave/lens_displaced.ply'),\n",
    "    },\n",
    "    'qureshi': {\n",
    "        'emitter': 'gray',\n",
    "        'lens': join(realpath(''), '4_outputs/qureshi/lens_displaced.ply'),\n",
    "    },\n",
    "    'green': {\n",
    "        'emitter': 'gray',\n",
    "        'lens': join(realpath(''), '4_outputs/green/lens_displaced.ply'),\n",
    "    },\n",
    "}\n",
    "\n",
    "config_name = 'green'\n",
    "\n",
    "config = CONFIGS[config_name]\n",
    "print('selected:', config['lens'])"
   ]
  },
  {
   "cell_type": "markdown",
   "metadata": {},
   "source": [
    "make hparams"
   ]
  },
  {
   "cell_type": "code",
   "execution_count": 287,
   "metadata": {},
   "outputs": [
    {
     "name": "stdout",
     "output_type": "stream",
     "text": [
      "results will be saved to: C:\\Users\\Alex\\Desktop\\exploring-inverse-rendering\\tutorials\\4_outputs\\green\n"
     ]
    }
   ],
   "source": [
    "config.update({\n",
    "    'render_resolution': (512, 512),\n",
    "    'spp': 32,\n",
    "})\n",
    "\n",
    "lens_fname = config['lens']\n",
    "output_dir = realpath(join('.', '4_outputs', config_name))\n",
    "os.makedirs(output_dir, exist_ok=True)\n",
    "print('results will be saved to:', output_dir)"
   ]
  },
  {
   "cell_type": "markdown",
   "metadata": {},
   "source": [
    "make emitter"
   ]
  },
  {
   "cell_type": "code",
   "execution_count": 288,
   "metadata": {},
   "outputs": [],
   "source": [
    "emitter = {\n",
    "    'type': 'directionalarea',\n",
    "    'radiance': {\n",
    "        'type': 'spectrum',\n",
    "        'value': 0.8\n",
    "    }\n",
    "}"
   ]
  },
  {
   "cell_type": "markdown",
   "metadata": {},
   "source": [
    "make integrator"
   ]
  },
  {
   "cell_type": "code",
   "execution_count": 289,
   "metadata": {},
   "outputs": [],
   "source": [
    "integrator = {\n",
    "    'type': 'ptracer',\n",
    "    'samples_per_pass': 256,\n",
    "    'max_depth': 4,\n",
    "    'hide_emitters': False\n",
    "}"
   ]
  },
  {
   "cell_type": "markdown",
   "metadata": {},
   "source": [
    "make sensor"
   ]
  },
  {
   "cell_type": "code",
   "execution_count": 290,
   "metadata": {},
   "outputs": [],
   "source": [
    "sensor_to_world = mi.ScalarTransform4f.look_at(\n",
    "    target=[0, -20, 0],\n",
    "    origin = [0, -4.65, 0],\n",
    "    up = [0, 0, 1]\n",
    ")\n",
    "resx, resy = config['render_resolution']\n",
    "sensor = {\n",
    "    'type': 'perspective',\n",
    "    'near_clip': 1,\n",
    "    'far_clip': 1000,\n",
    "    'fov': 65,\n",
    "    'to_world': sensor_to_world,\n",
    "\n",
    "    'sampler': {\n",
    "        'type': 'independent',\n",
    "        'sample_count': 512  # Not really used\n",
    "    },\n",
    "    'film': {\n",
    "        'type': 'hdrfilm',\n",
    "        'width': resx,\n",
    "        'height': resy,\n",
    "        'pixel_format': 'rgb',\n",
    "        'rfilter': {\n",
    "            # Important: smooth reconstruction filter with a footprint larger than 1 pixel.\n",
    "            'type': 'gaussian'\n",
    "        }\n",
    "    }\n",
    "}"
   ]
  },
  {
   "cell_type": "markdown",
   "metadata": {},
   "source": [
    "make scene"
   ]
  },
  {
   "cell_type": "code",
   "execution_count": 291,
   "metadata": {},
   "outputs": [],
   "source": [
    "scene = {\n",
    "    'type': 'scene',\n",
    "    'sensor': sensor,\n",
    "    'integrator': integrator,\n",
    "    # Glass BSDF\n",
    "    'simple-glass': {\n",
    "        'type': 'dielectric',\n",
    "        'id': 'simple-glass-bsdf',\n",
    "        'ext_ior': 'air',\n",
    "        'int_ior': 1.5,\n",
    "        'specular_reflectance': { 'type': 'spectrum', 'value': 0 },\n",
    "    },\n",
    "    'white-bsdf': {\n",
    "        'type': 'diffuse',\n",
    "        'id': 'white-bsdf',\n",
    "        'reflectance': { 'type': 'rgb', 'value': (1, 1, 1) },\n",
    "    },\n",
    "    'black-bsdf': {\n",
    "        'type': 'diffuse',\n",
    "        'id': 'black-bsdf',\n",
    "        'reflectance': { 'type': 'spectrum', 'value': 0 },\n",
    "    },\n",
    "    # Receiving plane\n",
    "    'receiving-plane': {\n",
    "        'type': 'obj',\n",
    "        'id': 'receiving-plane',\n",
    "        'filename': '../scenes/meshes/rectangle.obj',\n",
    "        'to_world': \\\n",
    "            mi.ScalarTransform4f.look_at(\n",
    "                target=[0, 1, 0],\n",
    "                origin=[0, -7, 0],\n",
    "                up=[0, 0, 1]\n",
    "            ).scale((5, 5, 5)),\n",
    "        'bsdf': {'type': 'ref', 'id': 'white-bsdf'},\n",
    "    },\n",
    "    # Glass slab, excluding the 'exit' face (added separately below)\n",
    "    'slab': {\n",
    "        'type': 'obj',\n",
    "        'id': 'slab',\n",
    "        'filename': '../scenes/meshes/slab.obj',\n",
    "        'to_world': mi.ScalarTransform4f.rotate(axis=(1, 0, 0), angle=90),\n",
    "        'bsdf': {'type': 'ref', 'id': 'simple-glass'},\n",
    "    },\n",
    "    # Glass rectangle, to be optimized\n",
    "    'lens': {\n",
    "        'type': 'ply',\n",
    "        'id': 'lens',\n",
    "        'filename': lens_fname,\n",
    "        'to_world': mi.ScalarTransform4f.rotate(axis=(1, 0, 0), angle=0),\n",
    "        'bsdf': {'type': 'ref', 'id': 'simple-glass'},\n",
    "    },\n",
    "\n",
    "    # Directional area emitter placed behind the glass slab\n",
    "    'focused-emitter-shape': {\n",
    "        'type': 'obj',\n",
    "        'filename': '../scenes/meshes/rectangle.obj',\n",
    "        'to_world': mi.ScalarTransform4f.look_at(\n",
    "            target=[0, 0, 0],\n",
    "            origin=[0, 5, 0],\n",
    "            up=[0, 0, 1]\n",
    "        ),\n",
    "        'bsdf': {'type': 'ref', 'id': 'black-bsdf'},\n",
    "        'focused-emitter': emitter,\n",
    "    },\n",
    "}"
   ]
  },
  {
   "cell_type": "code",
   "execution_count": 292,
   "metadata": {},
   "outputs": [],
   "source": [
    "scene = mi.load_dict(scene)"
   ]
  },
  {
   "cell_type": "code",
   "execution_count": 295,
   "metadata": {},
   "outputs": [
    {
     "name": "stdout",
     "output_type": "stream",
     "text": [
      "[-0.9999999403953552, -0.0015482902526855469, -1.0, -0.9999999403953552, -0.0019888877868652344, .. 786422 skipped .., -0.0011959075927734375, 0.9960861206054688, 0.9999999403953552, -0.0015482902526855469, 1.0]\n"
     ]
    },
    {
     "data": {
      "text/html": [
       "<span style=\"font-family: monospace; color: #f55\">2024-03-15 00:10:29 WARN  main  [AdjointIntegrator] render(): forcing &apos;evaluate=true&apos; since multi-pass rendering was requested.</span>"
      ]
     },
     "metadata": {},
     "output_type": "display_data"
    },
    {
     "data": {
      "text/html": [
       "<span style=\"font-family: monospace; color: #f55\">2024-03-15 00:10:32 WARN  main  [AdjointIntegrator] render(): forcing &apos;evaluate=true&apos; since multi-pass rendering was requested.</span>"
      ]
     },
     "metadata": {},
     "output_type": "display_data"
    }
   ],
   "source": [
    "params = mi.traverse(scene)\n",
    "print(params['lens.vertex_positions'])\n",
    "dist = 5.5\n",
    "steps = 2\n",
    "\n",
    "V = dr.unravel(mi.Point3f, params['lens.vertex_positions'])\n",
    "W = dr.unravel(mi.Point3f, params['slab.vertex_positions'])\n",
    "V.y -= dist\n",
    "W.y -= dist\n",
    "params['lens.vertex_positions'] = dr.ravel(V)\n",
    "params['slab.vertex_positions'] = dr.ravel(W)\n",
    "params.update();\n",
    "\n",
    "for i in range(0, steps):\n",
    "    V = dr.unravel(mi.Point3f, params['lens.vertex_positions'])\n",
    "    W = dr.unravel(mi.Point3f, params['slab.vertex_positions'])\n",
    "    V.y += dist/steps\n",
    "    W.y += dist/steps\n",
    "    params['lens.vertex_positions'] = dr.ravel(V)\n",
    "    params['slab.vertex_positions'] = dr.ravel(W)\n",
    "    params.update();\n",
    "    img = mi.render(scene)\n",
    "    mi.util.write_bitmap(f\"5_showcase//{config_name}/{i}-{config_name}.png\", img)"
   ]
  },
  {
   "cell_type": "code",
   "execution_count": null,
   "metadata": {},
   "outputs": [],
   "source": []
  }
 ],
 "metadata": {
  "kernelspec": {
   "display_name": "Python 3",
   "language": "python",
   "name": "python3"
  },
  "language_info": {
   "codemirror_mode": {
    "name": "ipython",
    "version": 3
   },
   "file_extension": ".py",
   "mimetype": "text/x-python",
   "name": "python",
   "nbconvert_exporter": "python",
   "pygments_lexer": "ipython3",
   "version": "3.11.0"
  }
 },
 "nbformat": 4,
 "nbformat_minor": 2
}
